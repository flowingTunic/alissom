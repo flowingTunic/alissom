{
 "cells": [
  {
   "cell_type": "markdown",
   "metadata": {},
   "source": [
    "# conjunto\n",
    "um conjunto ,é uma coleção não ordenada e que não admite elementos duplicados\n",
    "A= {3,1,2}={1,2,3}={1,2,1,1,2,3,3}"
   ]
  },
  {
   "cell_type": "code",
   "execution_count": null,
   "metadata": {},
   "outputs": [],
   "source": [
    "# ED sem repetcao, podemos tratar com uma lista\n",
    "clientes = []\n"
   ]
  }
 ],
 "metadata": {
  "language_info": {
   "name": "python"
  },
  "orig_nbformat": 4
 },
 "nbformat": 4,
 "nbformat_minor": 2
}
